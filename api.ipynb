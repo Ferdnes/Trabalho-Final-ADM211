{
 "cells": [
  {
   "cell_type": "code",
   "execution_count": null,
   "metadata": {},
   "outputs": [],
   "source": [
    "\n",
    "CLIENT_ID = '3403e0d384974648bb806181107c8797'\n",
    "CLIENT_SECRET = 'ff0e8943e0394adba109ddcaeee95a5d'\n",
    "AUTH_URL = 'https://accounts.spotify.com/api/token'\n",
    "\n",
    "import spotipy\n",
    "from spotipy.oauth2 import SpotifyClientCredentials\n",
    "client_credentials_manager = SpotifyClientCredentials(client_id=CLIENT_ID, client_secret=CLIENT_SECRET)\n",
    "sp = spotipy.Spotify(client_credentials_manager=client_credentials_manager)"
   ]
  },
  {
   "cell_type": "code",
   "execution_count": null,
   "metadata": {},
   "outputs": [],
   "source": [
    "artista = []\n",
    "musica_titulo = []\n",
    "musica_popularidade = []\n",
    "musica_duracao = []\n",
    "artista_id = []\n",
    "musica_id = []\n",
    "musica_data_lancamento = []\n",
    "    \n",
    "for i in range(0, 100, 50):\n",
    "    resultado = sp.search(q=f'genre:Sertanejo year:2023', type='track', limit=50, offset=i)\n",
    "    for i, t in enumerate(resultado['tracks']['items']):\n",
    "        artista.append(t['artists'][0]['name'])\n",
    "        artista_id.append(t['artists'][0]['id'])\n",
    "        musica_titulo.append(t['name'])\n",
    "        musica_id.append(t['id'])\n",
    "        musica_popularidade.append(t['popularity'])\n",
    "        musica_duracao.append(t['duration_ms'])\n",
    "        musica_data_lancamento.append(t['album']['release_date'])\n",
    "\n"
   ]
  },
  {
   "cell_type": "markdown",
   "metadata": {},
   "source": []
  },
  {
   "cell_type": "code",
   "execution_count": null,
   "metadata": {},
   "outputs": [],
   "source": [
    "import pandas as pd\n",
    "musica_df = pd.DataFrame({'artista': artista,\n",
    "                               'musica_titulo': musica_titulo,\n",
    "                               'musica_popularidade': musica_popularidade,\n",
    "                               'musica_duracao': musica_duracao,\n",
    "                               'artista_id': artista_id,\n",
    "                               'musica_id': musica_id,\n",
    "                               'musica_data_lancamento': musica_data_lancamento\n",
    "                               })\n",
    "\n",
    "display(musica_df)"
   ]
  },
  {
   "cell_type": "code",
   "execution_count": null,
   "metadata": {},
   "outputs": [],
   "source": [
    "import pandas as pd\n",
    "musica_features = []\n",
    "for m_id in musica_df['musica_id']:\n",
    "    af = sp.audio_features(m_id)\n",
    "    musica_features.append(af)\n",
    "\n",
    "mf_df = pd.DataFrame(columns=['danceability', 'energy', 'loudness', 'speechiness', 'acousticness', 'instrumentalness', 'liveness', 'valence', 'tempo', 'duration_ms', 'time_signature', 'id'])\n",
    "\n",
    "for item in musica_features:\n",
    "    for feat in item:\n",
    "        mf_df= pd.concat([mf_df, pd.DataFrame([\n",
    "                            {'danceability': feat['danceability'],\n",
    "                              'energy': feat['energy'],\n",
    "                              'loudness': feat['loudness'],\n",
    "                              'speechiness': feat['speechiness'],\n",
    "                              'acousticness': feat['acousticness'],\n",
    "                              'instrumentalness': feat['instrumentalness'],\n",
    "                              'liveness': feat['liveness'],\n",
    "                              'valence': feat['valence'],\n",
    "                              'tempo': feat['tempo'],\n",
    "                              'duration_ms': feat['duration_ms'],\n",
    "                              'musica_id': feat['id'],\n",
    "                              'time_signature': feat['time_signature']}\n",
    "                              ])], ignore_index=True)\n",
    "#elimina colunas iguais\n",
    "mf_df.drop('id', axis = 1, inplace = True)\n",
    "\n",
    "display(mf_df)"
   ]
  }
 ],
 "metadata": {
  "kernelspec": {
   "display_name": "Python 3",
   "language": "python",
   "name": "python3"
  },
  "language_info": {
   "codemirror_mode": {
    "name": "ipython",
    "version": 3
   },
   "file_extension": ".py",
   "mimetype": "text/x-python",
   "name": "python",
   "nbconvert_exporter": "python",
   "pygments_lexer": "ipython3",
   "version": "3.10.8"
  }
 },
 "nbformat": 4,
 "nbformat_minor": 2
}
